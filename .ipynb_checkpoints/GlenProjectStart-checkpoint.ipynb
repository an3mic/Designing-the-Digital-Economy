{
 "cells": [
  {
   "cell_type": "code",
   "execution_count": 1,
   "metadata": {
    "collapsed": false
   },
   "outputs": [],
   "source": [
    "import numpy as np\n",
    "import itertools as it\n",
    "import matplotlib.pyplot as plt"
   ]
  },
  {
   "cell_type": "code",
   "execution_count": 2,
   "metadata": {
    "collapsed": true
   },
   "outputs": [],
   "source": [
    "# Use this parameter to set printing behavior\n",
    "verbose = True"
   ]
  },
  {
   "cell_type": "code",
   "execution_count": 3,
   "metadata": {
    "collapsed": false
   },
   "outputs": [],
   "source": [
    "# Compute Manhattan distance between two points.\n",
    "def taxicab(tup1, tup2):\n",
    "    dist = 0\n",
    "    \n",
    "    for i in range(len(tup1)-1):\n",
    "        dist = dist + abs(tup1[i]-tup2[i])\n",
    "    return dist\n",
    "\n",
    "# Compute L2 distance between two points\n",
    "def lineardist(tup1,tup2):\n",
    "    dist = np.linalg.norm(np.subtract(tup1,tup2))\n",
    "    return dist"
   ]
  },
  {
   "cell_type": "code",
   "execution_count": 4,
   "metadata": {
    "collapsed": false
   },
   "outputs": [],
   "source": [
    "# Compute n destinations with L2 distance stdev from (x,y)\n",
    "def destinations(n,stdev,x, y):\n",
    "    dests = []\n",
    "    for i in range(n):\n",
    "        dests.append(tuple(np.append(stdev*np.random.randn(2) + [x,y],i+1)))\n",
    "    return dests\n",
    "\n",
    "# 1: randint could give you the value zero?\n",
    "# 2: Do you want np.random.uniform(size=n)?\n",
    "# 3: Do you want to just have a sequence of times (i/n)\n",
    "def timevals(n):\n",
    "    values = np.random.randint(100,size = n)\n",
    "    return np.append(0,values/np.mean(values))\n",
    "\n",
    "# A zero and then n ones.\n",
    "def dummytimeval(n):\n",
    "    return np.append(0,np.ones(n))"
   ]
  },
  {
   "cell_type": "code",
   "execution_count": 5,
   "metadata": {
    "collapsed": false
   },
   "outputs": [],
   "source": [
    "perms = it.permutations(destinations(3,1,5,5))\n",
    "permlist = []\n",
    "for x in perms:\n",
    "    permlist.append(x)"
   ]
  },
  {
   "cell_type": "code",
   "execution_count": 6,
   "metadata": {
    "collapsed": false
   },
   "outputs": [
    {
     "name": "stdout",
     "output_type": "stream",
     "text": [
      "((3.9233719340583937, 4.127728340997133, 1.0), (4.6548460709290289, 5.2183232138957676, 2.0), (5.8523124351283222, 5.938976230107885, 3.0))\n",
      "((3.9233719340583937, 4.127728340997133, 1.0), (5.8523124351283222, 5.938976230107885, 3.0), (4.6548460709290289, 5.2183232138957676, 2.0))\n",
      "((4.6548460709290289, 5.2183232138957676, 2.0), (3.9233719340583937, 4.127728340997133, 1.0), (5.8523124351283222, 5.938976230107885, 3.0))\n",
      "((4.6548460709290289, 5.2183232138957676, 2.0), (5.8523124351283222, 5.938976230107885, 3.0), (3.9233719340583937, 4.127728340997133, 1.0))\n",
      "((5.8523124351283222, 5.938976230107885, 3.0), (3.9233719340583937, 4.127728340997133, 1.0), (4.6548460709290289, 5.2183232138957676, 2.0))\n",
      "((5.8523124351283222, 5.938976230107885, 3.0), (4.6548460709290289, 5.2183232138957676, 2.0), (3.9233719340583937, 4.127728340997133, 1.0))\n"
     ]
    }
   ],
   "source": [
    "if verbose:\n",
    "    for x in permlist: \n",
    "        print x"
   ]
  },
  {
   "cell_type": "code",
   "execution_count": 7,
   "metadata": {
    "collapsed": false
   },
   "outputs": [
    {
     "name": "stdout",
     "output_type": "stream",
     "text": [
      "[ 0.  1.  1.  1.]\n"
     ]
    }
   ],
   "source": [
    "vals = timevals(3)\n",
    "dummyvals = dummytimeval(3)\n",
    "if verbose:\n",
    "    print dummyvals"
   ]
  },
  {
   "cell_type": "code",
   "execution_count": 8,
   "metadata": {
    "collapsed": true
   },
   "outputs": [],
   "source": [
    "def cost(weights, path, startx, starty):\n",
    "    origin = tuple([startx,starty, 0])\n",
    "    currloc = origin\n",
    "    currcost = sum(weights)\n",
    "    totalcost = 0\n",
    "    for i in range(len(path)):\n",
    "        #totalcost += currcost * taxicab(currloc,path[i])\n",
    "        totalcost += currcost * lineardist(currloc,path[i])\n",
    "        currcost = currcost-weights[path[i][2]]\n",
    "        currloc = path[i]\n",
    "    return totalcost"
   ]
  },
  {
   "cell_type": "code",
   "execution_count": 9,
   "metadata": {
    "collapsed": false
   },
   "outputs": [
    {
     "name": "stderr",
     "output_type": "stream",
     "text": [
      "/Users/davidadelberg/anaconda/envs/py27/lib/python2.7/site-packages/ipykernel/__main__.py:9: VisibleDeprecationWarning: using a non-integer number instead of an integer will result in an error in the future\n"
     ]
    }
   ],
   "source": [
    "#permlist = []\n",
    "wgtcost = []\n",
    "unwgtcost = []\n",
    "\n",
    "for i in range(len(permlist)):\n",
    "    wgtcost.append(cost(vals,permlist[i],0,0))\n",
    "    unwgtcost.append(cost(dummyvals,permlist[i],0,0))\n",
    "    #permlist.append(x)"
   ]
  },
  {
   "cell_type": "code",
   "execution_count": 10,
   "metadata": {
    "collapsed": false
   },
   "outputs": [
    {
     "name": "stdout",
     "output_type": "stream",
     "text": [
      "1.0\n"
     ]
    }
   ],
   "source": [
    "optimal =  wgtcost.index(min(wgtcost))\n",
    "shortest =  unwgtcost.index(min(unwgtcost))\n",
    "print wgtcost[optimal]/wgtcost[shortest]"
   ]
  },
  {
   "cell_type": "code",
   "execution_count": 11,
   "metadata": {
    "collapsed": true
   },
   "outputs": [],
   "source": [
    "riders = 7\n",
    "dispersion = 6\n",
    "centerx = 10\n",
    "centery = 10"
   ]
  },
  {
   "cell_type": "code",
   "execution_count": 12,
   "metadata": {
    "collapsed": false
   },
   "outputs": [
    {
     "name": "stderr",
     "output_type": "stream",
     "text": [
      "/Users/davidadelberg/anaconda/envs/py27/lib/python2.7/site-packages/ipykernel/__main__.py:9: VisibleDeprecationWarning: using a non-integer number instead of an integer will result in an error in the future\n"
     ]
    }
   ],
   "source": [
    "output = []\n",
    "socialcost = []\n",
    "for j in range(20):\n",
    "    dispersion = j\n",
    "    savings = []\n",
    "    unsavings = []\n",
    "    for i in range(40):\n",
    "        perms = it.permutations(destinations(riders,dispersion,centerx,centery))\n",
    "        lst = list(perms)\n",
    "        np.random.shuffle(lst)\n",
    "        #for i in lst:\n",
    "        #print i\n",
    "        if riders > 5:\n",
    "            lst = lst[:120]\n",
    "        permlist = []\n",
    "        for x in lst:\n",
    "            permlist.append(x)\n",
    "\n",
    "        vals = timevals(riders)\n",
    "        dummyvals = dummytimeval(riders)\n",
    "        #print dummyvals\n",
    "        wgtcost = []\n",
    "        unwgtcost = []\n",
    "\n",
    "        for i in range(len(permlist)):\n",
    "            wgtcost.append(cost(vals,permlist[i],0,0))\n",
    "            unwgtcost.append(cost(dummyvals,permlist[i],0,0))\n",
    "\n",
    "        optimal =  wgtcost.index(min(wgtcost))\n",
    "        #lindist = unwgtcost.index(min(wgtcost))\n",
    "        shortest =  unwgtcost.index(min(unwgtcost))\n",
    "        savings.append(wgtcost[optimal]/wgtcost[shortest])\n",
    "        unsavings.append(unwgtcost[optimal]/wgtcost[shortest])\n",
    "    output.append(np.mean(savings))\n",
    "    socialcost.append(np.mean(unsavings))"
   ]
  },
  {
   "cell_type": "code",
   "execution_count": 13,
   "metadata": {
    "collapsed": false
   },
   "outputs": [
    {
     "data": {
      "text/plain": [
       "[<matplotlib.lines.Line2D at 0x10a458990>]"
      ]
     },
     "execution_count": 13,
     "metadata": {},
     "output_type": "execute_result"
    },
    {
     "data": {
      "image/png": "[encoded data removed]",
      "text/plain": [
       "<matplotlib.figure.Figure at 0x10a4589d0>"
      ]
     },
     "metadata": {},
     "output_type": "display_data"
    }
   ],
   "source": [
    "%matplotlib inline\n",
    "\n",
    "#print np.mean(savings)\n",
    "plt.plot(output)\n",
    "plt.plot(socialcost)"
   ]
  },
  {
   "cell_type": "code",
   "execution_count": null,
   "metadata": {
    "collapsed": true
   },
   "outputs": [],
   "source": []
  },
  {
   "cell_type": "code",
   "execution_count": null,
   "metadata": {
    "collapsed": true
   },
   "outputs": [],
   "source": []
  }
 ],
 "metadata": {
  "anaconda-cloud": {},
  "kernelspec": {
   "display_name": "Python 2",
   "language": "python",
   "name": "python2"
  },
  "language_info": {
   "codemirror_mode": {
    "name": "ipython",
    "version": 2
   },
   "file_extension": ".py",
   "mimetype": "text/x-python",
   "name": "python",
   "nbconvert_exporter": "python",
   "pygments_lexer": "ipython2",
   "version": "2.7.12"
  }
 },
 "nbformat": 4,
 "nbformat_minor": 1
}
